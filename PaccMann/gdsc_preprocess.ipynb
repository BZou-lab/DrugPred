{
 "cells": [
  {
   "cell_type": "markdown",
   "id": "384c6fec-03ad-40c6-b4e7-ad8b28fcfeed",
   "metadata": {},
   "source": [
    "# GDSC Data Preprocessing for PaccMann\n",
    "\n",
    "## Overview\n",
    "\n",
    "This notebook preprocesses the GDSC (Genomics of Drug Sensitivity in Cancer) dataset for use with the PaccMann framework. The preprocessing steps include splitting drug response data, saving it for the 10 cv. Shuffling the SMILES strings, and saving the results in a text file.\n",
    "\n",
    "## Input Data\n",
    "\n",
    "- **GDSC Data**: This should include drug response data with drug and gene features.In mask cell, mask drug and mask combination setting splitted for 10 times cvs.\n",
    "\n",
    "## Output\n",
    "\n",
    "- **Train, Test, Talidation Data for Model Training and Predicting**: For each cv in each spliting, data are divided in to 80% training, 10% testing and 10 validation.\n",
    "- **Gene Expression data**: Same as other models, minor changes for Paccmann.\n",
    "- **SMILES**: Scrapped from pubchem, randomly shuffled to create the effect of no drug information input.\n",
    "\n",
    "\n",
    "## How to Use\n",
    "\n",
    "1. **Load the Data**: Ensure you have the GDSC dataset in the correct format.\n",
    "2. **Run the Notebook**: Execute each cell in the notebook to preprocess the data.\n",
    "3. **Output File**: The preprocessed data will be saved for training and testing Paccmann model.\n",
    "\n",
    "\n",
    "\n",
    "\n",
    "\n",
    "\n"
   ]
  },
  {
   "cell_type": "code",
   "execution_count": 3,
   "id": "30385ba6-a025-4b1b-abe7-afad8c2fda26",
   "metadata": {},
   "outputs": [],
   "source": [
    "import pandas as pd\n",
    "import os\n",
    "import csv\n",
    "import numpy as np\n",
    "import random\n",
    "from sklearn.model_selection import train_test_split\n",
    "\n",
    "os.chdir('.../paccmann_predictor/gdsc_old')"
   ]
  },
  {
   "cell_type": "markdown",
   "id": "bc8cb250-e95d-4469-a727-47a1fbbee76b",
   "metadata": {},
   "source": [
    "## Response data; train and test"
   ]
  },
  {
   "cell_type": "markdown",
   "id": "8c267d46-9155-4fa8-bdea-9b1d5180e739",
   "metadata": {},
   "source": [
    "### Mask combination"
   ]
  },
  {
   "cell_type": "code",
   "execution_count": 5,
   "id": "ba8e98f4-5a9b-422a-9fbf-a6177032b5a2",
   "metadata": {},
   "outputs": [],
   "source": [
    "path = r'.../paccmann_predictor/gdsc_old/mask_comb'"
   ]
  },
  {
   "cell_type": "code",
   "execution_count": null,
   "id": "ab24aaa3-85ce-4590-afd1-a8deac7a9177",
   "metadata": {
    "tags": []
   },
   "outputs": [],
   "source": [
    "for i in range (10):\n",
    "    maskcomb_train = pd.read_csv(f'{\"mask_comb/train_cv\"}_{i+1}.csv')\n",
    "    maskcomb_train = maskcomb_train.rename(columns={\"Drug name\": \"drug\", \"Sanger ID\": \"cell_line\"}).drop(['Origin_idx'], axis=1)\n",
    "    maskcomb_val = pd.read_csv(f'{\"mask_comb/valid_cv\"}_{i+1}.csv')\n",
    "    maskcomb_val = maskcomb_val.rename(columns={\"Drug name\": \"drug\", \"Sanger ID\": \"cell_line\"}).drop(['Origin_idx'], axis=1)\n",
    "\n",
    "\n",
    "    train_set, test_set = train_test_split(maskcomb_train, test_size=0.1, random_state=42)\n",
    "\n",
    "    #print(f\"Fold {i + 1}: Train: {len(train_set)},Test: {len(test_set)}\")\n",
    "           \n",
    "    train_set.to_csv(os.path.join(path, f'{\"maskcomb_train\"}_{i+1}.csv'))\n",
    "    test_set.to_csv(os.path.join(path, f'{\"maskcomb_test\"}_{i+1}.csv'))\n",
    "    maskcomb_val.to_csv(os.path.join(path, f'{\"maskcomb_valid\"}_{i+1}.csv'))"
   ]
  },
  {
   "cell_type": "markdown",
   "id": "355b2abf-c81d-4276-89bb-521b6c8a48f7",
   "metadata": {},
   "source": [
    "### Mask cell"
   ]
  },
  {
   "cell_type": "code",
   "execution_count": null,
   "id": "e0167b14-db7a-486c-9f98-df43e135b7ea",
   "metadata": {},
   "outputs": [],
   "source": [
    "path=r'/nas/longleaf/home/qhz/paccmann_predictor/gdsc_old/mask_cell'"
   ]
  },
  {
   "cell_type": "code",
   "execution_count": null,
   "id": "e3a2b48a-2300-44f1-8167-25d646408598",
   "metadata": {},
   "outputs": [],
   "source": [
    "for i in range (10):\n",
    "    maskcell_train = pd.read_csv(f'{\"mask_cell/train_cv\"}_{i+1}.csv')\n",
    "    maskcell_train = maskcell_train.rename(columns={\"Drug name\": \"drug\", \"Sanger ID\": \"cell_line\"}).drop(['Origin_idx'], axis=1)\n",
    "    maskcell_val = pd.read_csv(f'{\"mask_cell/valid_cv\"}_{i+1}.csv')\n",
    "    maskcell_val = maskcell_val.rename(columns={\"Drug name\": \"drug\", \"Sanger ID\": \"cell_line\"}).drop(['Origin_idx'], axis=1)\n",
    "\n",
    "    cell_list = pd.unique(maskcell_train['cell_line'])\n",
    "\n",
    "    train_cell, test_cell = train_test_split(cell_list, test_size=0.1, random_state=42)\n",
    "    \n",
    "    test_set = maskcell_train[maskcell_train['cell_line'].isin(test_cell)]\n",
    "    train_set = maskcell_train[maskcell_train['cell_line'].isin(train_cell)]\n",
    "       \n",
    "    print(f\"Fold {i + 1}: Train: {len(pd.unique(train_set['cell_line']))},Test: {len(pd.unique(test_set['cell_line']))}\")\n",
    "    \n",
    "           \n",
    "    train_set.to_csv(os.path.join(path, f'{\"maskcell_train\"}_{i+1}.csv'))\n",
    "    test_set.to_csv(os.path.join(path, f'{\"maskcell_test\"}_{i+1}.csv'))\n",
    "    maskcell_val.to_csv(os.path.join(path, f'{\"maskcell_valid\"}_{i+1}.csv'))"
   ]
  },
  {
   "cell_type": "markdown",
   "id": "dd9642b6-453b-4ce0-9761-a8451aa4be53",
   "metadata": {},
   "source": [
    "### Mask drug"
   ]
  },
  {
   "cell_type": "code",
   "execution_count": 2,
   "id": "7a0991ae-defa-42c3-af68-cc6546542cd2",
   "metadata": {},
   "outputs": [],
   "source": [
    "path=r'/nas/longleaf/home/qhz/paccmann_predictor/gdsc_old/mask_drug'"
   ]
  },
  {
   "cell_type": "code",
   "execution_count": null,
   "id": "9512d8fd-213d-4974-920b-c65d4d320274",
   "metadata": {},
   "outputs": [],
   "source": [
    "for i in range (10):\n",
    "    maskdrug_train = pd.read_csv(f'{\"mask_drug/train_cv\"}_{i+1}.csv').drop(['Origin_idx'], axis=1)\n",
    "    maskdrug_val = pd.read_csv(f'{\"mask_drug/valid_cv\"}_{i+1}.csv').drop(['Origin_idx'], axis=1)\n",
    "\n",
    "    maskdrug_train = maskdrug_train.rename(columns={\"Drug name\": \"drug\", \"Sanger ID\": \"cell_line\"})\n",
    "    maskdrug_val = maskdrug_val.rename(columns={ \"Drug name\": \"drug\", \"Sanger ID\": \"cell_line\"})\n",
    "\n",
    "    drug_list = pd.unique(maskdrug_train['drug'])\n",
    "\n",
    "    train_drug, test_drug = train_test_split(drug_list, test_size=0.1, random_state=42)\n",
    "    \n",
    "    train_set = maskdrug_train[maskdrug_train['drug'].isin(train_drug)]\n",
    "    test_set = maskdrug_train[maskdrug_train['drug'].isin(test_drug)]\n",
    "       \n",
    "    print(f\"Fold {i + 1}: Train: {len(pd.unique(train_set['drug']))},Test: {len(pd.unique(test_set['drug']))}\")\n",
    "    \n",
    "           \n",
    "    train_set.to_csv(os.path.join(path, f'{\"maskdrug_train\"}_{i+1}.csv'))\n",
    "    test_set.to_csv(os.path.join(path, f'{\"maskdrug_test\"}_{i+1}.csv'))\n",
    "    maskdrug_val.to_csv(os.path.join(path, f'{\"maskdrug_valid\"}_{i+1}.csv'))"
   ]
  },
  {
   "cell_type": "markdown",
   "id": "b3115c5a-9adf-4912-becb-fd990f3954df",
   "metadata": {},
   "source": [
    "## Gene expression data"
   ]
  },
  {
   "cell_type": "code",
   "execution_count": null,
   "id": "d2525869-c634-4cc9-a40f-ba1a5a430502",
   "metadata": {},
   "outputs": [],
   "source": [
    "gene_exp = pd.read_csv('gdsc_exp_common_forqh.csv')\n",
    "df1 = gene_exp.drop(['Unnamed: 0', 'COSMIC_ID'], axis=1)\n",
    "df = gene_exp.set_index(['SANGER_MODEL_ID'], inplace = True)\n",
    "df.to_csv('gdsc_gene_exp.csv',index=False)"
   ]
  },
  {
   "cell_type": "markdown",
   "id": "0382e6cc-ea87-4a15-a617-58d3e728fc3a",
   "metadata": {},
   "source": [
    "### New GDSC smiles"
   ]
  },
  {
   "cell_type": "code",
   "execution_count": 1,
   "id": "aa4c3127-4d6d-4946-9cd3-bebd2c837af2",
   "metadata": {},
   "outputs": [],
   "source": [
    "import pandas as pd\n",
    "import numpy as np\n",
    "import requests\n",
    "from itertools import product\n",
    "from rdkit import Chem\n",
    "from rdkit.Chem import AllChem"
   ]
  },
  {
   "cell_type": "code",
   "execution_count": 2,
   "id": "9d78357d-d7ed-4417-9ce3-1108052451fb",
   "metadata": {},
   "outputs": [],
   "source": [
    "def smiles_from_pubchem_cids(cids):\n",
    "\n",
    "    url = f\"https://pubchem.ncbi.nlm.nih.gov/rest/pug/compound/cid/{','.join(map(str, cids))}/property/CanonicalSMILES/JSON\"\n",
    "    r = requests.get(url)\n",
    "    r.raise_for_status()\n",
    "    return [item[\"CanonicalSMILES\"] for item in r.json()[\"PropertyTable\"][\"Properties\"]]\n"
   ]
  },
  {
   "cell_type": "code",
   "execution_count": 3,
   "id": "3b288b27-101b-4017-b982-5827aeef3b02",
   "metadata": {},
   "outputs": [],
   "source": [
    "druginfos = pd.read_csv('oldGDSC_druginfo.csv')"
   ]
  },
  {
   "cell_type": "code",
   "execution_count": 4,
   "id": "4ee7714c-fc5b-45fa-a721-536e3c98d069",
   "metadata": {},
   "outputs": [
    {
     "data": {
      "text/html": [
       "<div>\n",
       "<style scoped>\n",
       "    .dataframe tbody tr th:only-of-type {\n",
       "        vertical-align: middle;\n",
       "    }\n",
       "\n",
       "    .dataframe tbody tr th {\n",
       "        vertical-align: top;\n",
       "    }\n",
       "\n",
       "    .dataframe thead th {\n",
       "        text-align: right;\n",
       "    }\n",
       "</style>\n",
       "<table border=\"1\" class=\"dataframe\">\n",
       "  <thead>\n",
       "    <tr style=\"text-align: right;\">\n",
       "      <th></th>\n",
       "      <th>Unnamed: 0</th>\n",
       "      <th>cid</th>\n",
       "      <th>drug_name</th>\n",
       "      <th>smiles</th>\n",
       "    </tr>\n",
       "  </thead>\n",
       "  <tbody>\n",
       "    <tr>\n",
       "      <th>0</th>\n",
       "      <td>0</td>\n",
       "      <td>24360</td>\n",
       "      <td>Camptothecin</td>\n",
       "      <td>CCC1(C2=C(COC1=O)C(=O)N3CC4=CC5=CC=CC=C5N=C4C3...</td>\n",
       "    </tr>\n",
       "    <tr>\n",
       "      <th>1</th>\n",
       "      <td>1</td>\n",
       "      <td>13342</td>\n",
       "      <td>Vinblastine</td>\n",
       "      <td>CCC1(CC2CC(C3=C(CCN(C2)C1)C4=CC=CC=C4N3)(C5=C(...</td>\n",
       "    </tr>\n",
       "    <tr>\n",
       "      <th>2</th>\n",
       "      <td>2</td>\n",
       "      <td>5702198</td>\n",
       "      <td>Cisplatin</td>\n",
       "      <td>N.N.Cl[Pt]Cl</td>\n",
       "    </tr>\n",
       "    <tr>\n",
       "      <th>3</th>\n",
       "      <td>3</td>\n",
       "      <td>6253</td>\n",
       "      <td>Cytarabine</td>\n",
       "      <td>C1=CN(C(=O)N=C1N)C2C(C(C(O2)CO)O)O</td>\n",
       "    </tr>\n",
       "    <tr>\n",
       "      <th>4</th>\n",
       "      <td>4</td>\n",
       "      <td>148124</td>\n",
       "      <td>Docetaxel</td>\n",
       "      <td>CC1=C2C(C(=O)C3(C(CC4C(C3C(C(C2(C)C)(CC1OC(=O)...</td>\n",
       "    </tr>\n",
       "    <tr>\n",
       "      <th>...</th>\n",
       "      <td>...</td>\n",
       "      <td>...</td>\n",
       "      <td>...</td>\n",
       "      <td>...</td>\n",
       "    </tr>\n",
       "    <tr>\n",
       "      <th>139</th>\n",
       "      <td>139</td>\n",
       "      <td>51000408</td>\n",
       "      <td>VE821</td>\n",
       "      <td>CS(=O)(=O)C1=CC=C(C=C1)C2=CN=C(C(=N2)C(=O)NC3=...</td>\n",
       "    </tr>\n",
       "    <tr>\n",
       "      <th>140</th>\n",
       "      <td>140</td>\n",
       "      <td>44137675</td>\n",
       "      <td>AZD6482</td>\n",
       "      <td>CC1=CN2C(=O)C=C(N=C2C(=C1)C(C)NC3=CC=CC=C3C(=O...</td>\n",
       "    </tr>\n",
       "    <tr>\n",
       "      <th>141</th>\n",
       "      <td>141</td>\n",
       "      <td>24905401</td>\n",
       "      <td>AT13148</td>\n",
       "      <td>C1=CC(=CC=C1C2=CNN=C2)C(CN)(C3=CC=C(C=C3)Cl)O</td>\n",
       "    </tr>\n",
       "    <tr>\n",
       "      <th>142</th>\n",
       "      <td>142</td>\n",
       "      <td>24785538</td>\n",
       "      <td>BMS-754807</td>\n",
       "      <td>CC1(CCCN1C2=NN3C=CC=C3C(=N2)NC4=NNC(=C4)C5CC5)...</td>\n",
       "    </tr>\n",
       "    <tr>\n",
       "      <th>143</th>\n",
       "      <td>143</td>\n",
       "      <td>46907787</td>\n",
       "      <td>JQ1</td>\n",
       "      <td>CC1=C(SC2=C1C(=NC(C3=NN=C(N32)C)CC(=O)OC(C)(C)...</td>\n",
       "    </tr>\n",
       "  </tbody>\n",
       "</table>\n",
       "<p>144 rows × 4 columns</p>\n",
       "</div>"
      ],
      "text/plain": [
       "     Unnamed: 0       cid     drug_name  \\\n",
       "0             0     24360  Camptothecin   \n",
       "1             1     13342   Vinblastine   \n",
       "2             2   5702198     Cisplatin   \n",
       "3             3      6253    Cytarabine   \n",
       "4             4    148124     Docetaxel   \n",
       "..          ...       ...           ...   \n",
       "139         139  51000408         VE821   \n",
       "140         140  44137675       AZD6482   \n",
       "141         141  24905401       AT13148   \n",
       "142         142  24785538    BMS-754807   \n",
       "143         143  46907787           JQ1   \n",
       "\n",
       "                                                smiles  \n",
       "0    CCC1(C2=C(COC1=O)C(=O)N3CC4=CC5=CC=CC=C5N=C4C3...  \n",
       "1    CCC1(CC2CC(C3=C(CCN(C2)C1)C4=CC=CC=C4N3)(C5=C(...  \n",
       "2                                         N.N.Cl[Pt]Cl  \n",
       "3                   C1=CN(C(=O)N=C1N)C2C(C(C(O2)CO)O)O  \n",
       "4    CC1=C2C(C(=O)C3(C(CC4C(C3C(C(C2(C)C)(CC1OC(=O)...  \n",
       "..                                                 ...  \n",
       "139  CS(=O)(=O)C1=CC=C(C=C1)C2=CN=C(C(=N2)C(=O)NC3=...  \n",
       "140  CC1=CN2C(=O)C=C(N=C2C(=C1)C(C)NC3=CC=CC=C3C(=O...  \n",
       "141      C1=CC(=CC=C1C2=CNN=C2)C(CN)(C3=CC=C(C=C3)Cl)O  \n",
       "142  CC1(CCCN1C2=NN3C=CC=C3C(=N2)NC4=NNC(=C4)C5CC5)...  \n",
       "143  CC1=C(SC2=C1C(=NC(C3=NN=C(N32)C)CC(=O)OC(C)(C)...  \n",
       "\n",
       "[144 rows x 4 columns]"
      ]
     },
     "execution_count": 4,
     "metadata": {},
     "output_type": "execute_result"
    }
   ],
   "source": [
    "druginfos['smiles'] = smiles_from_pubchem_cids(druginfos['cid'])\n",
    "druginfos"
   ]
  },
  {
   "cell_type": "code",
   "execution_count": 5,
   "id": "7a0fbef4-55bc-41fb-9259-9550e8b2ef09",
   "metadata": {},
   "outputs": [
    {
     "data": {
      "text/html": [
       "<div>\n",
       "<style scoped>\n",
       "    .dataframe tbody tr th:only-of-type {\n",
       "        vertical-align: middle;\n",
       "    }\n",
       "\n",
       "    .dataframe tbody tr th {\n",
       "        vertical-align: top;\n",
       "    }\n",
       "\n",
       "    .dataframe thead th {\n",
       "        text-align: right;\n",
       "    }\n",
       "</style>\n",
       "<table border=\"1\" class=\"dataframe\">\n",
       "  <thead>\n",
       "    <tr style=\"text-align: right;\">\n",
       "      <th></th>\n",
       "      <th>canonical_smiles</th>\n",
       "      <th>drug</th>\n",
       "    </tr>\n",
       "  </thead>\n",
       "  <tbody>\n",
       "    <tr>\n",
       "      <th>0</th>\n",
       "      <td>CCC1(C2=C(COC1=O)C(=O)N3CC4=CC5=CC=CC=C5N=C4C3...</td>\n",
       "      <td>Camptothecin</td>\n",
       "    </tr>\n",
       "    <tr>\n",
       "      <th>1</th>\n",
       "      <td>CCC1(CC2CC(C3=C(CCN(C2)C1)C4=CC=CC=C4N3)(C5=C(...</td>\n",
       "      <td>Vinblastine</td>\n",
       "    </tr>\n",
       "    <tr>\n",
       "      <th>2</th>\n",
       "      <td>N.N.Cl[Pt]Cl</td>\n",
       "      <td>Cisplatin</td>\n",
       "    </tr>\n",
       "    <tr>\n",
       "      <th>3</th>\n",
       "      <td>C1=CN(C(=O)N=C1N)C2C(C(C(O2)CO)O)O</td>\n",
       "      <td>Cytarabine</td>\n",
       "    </tr>\n",
       "    <tr>\n",
       "      <th>4</th>\n",
       "      <td>CC1=C2C(C(=O)C3(C(CC4C(C3C(C(C2(C)C)(CC1OC(=O)...</td>\n",
       "      <td>Docetaxel</td>\n",
       "    </tr>\n",
       "    <tr>\n",
       "      <th>...</th>\n",
       "      <td>...</td>\n",
       "      <td>...</td>\n",
       "    </tr>\n",
       "    <tr>\n",
       "      <th>139</th>\n",
       "      <td>CS(=O)(=O)C1=CC=C(C=C1)C2=CN=C(C(=N2)C(=O)NC3=...</td>\n",
       "      <td>VE821</td>\n",
       "    </tr>\n",
       "    <tr>\n",
       "      <th>140</th>\n",
       "      <td>CC1=CN2C(=O)C=C(N=C2C(=C1)C(C)NC3=CC=CC=C3C(=O...</td>\n",
       "      <td>AZD6482</td>\n",
       "    </tr>\n",
       "    <tr>\n",
       "      <th>141</th>\n",
       "      <td>C1=CC(=CC=C1C2=CNN=C2)C(CN)(C3=CC=C(C=C3)Cl)O</td>\n",
       "      <td>AT13148</td>\n",
       "    </tr>\n",
       "    <tr>\n",
       "      <th>142</th>\n",
       "      <td>CC1(CCCN1C2=NN3C=CC=C3C(=N2)NC4=NNC(=C4)C5CC5)...</td>\n",
       "      <td>BMS-754807</td>\n",
       "    </tr>\n",
       "    <tr>\n",
       "      <th>143</th>\n",
       "      <td>CC1=C(SC2=C1C(=NC(C3=NN=C(N32)C)CC(=O)OC(C)(C)...</td>\n",
       "      <td>JQ1</td>\n",
       "    </tr>\n",
       "  </tbody>\n",
       "</table>\n",
       "<p>144 rows × 2 columns</p>\n",
       "</div>"
      ],
      "text/plain": [
       "                                      canonical_smiles          drug\n",
       "0    CCC1(C2=C(COC1=O)C(=O)N3CC4=CC5=CC=CC=C5N=C4C3...  Camptothecin\n",
       "1    CCC1(CC2CC(C3=C(CCN(C2)C1)C4=CC=CC=C4N3)(C5=C(...   Vinblastine\n",
       "2                                         N.N.Cl[Pt]Cl     Cisplatin\n",
       "3                   C1=CN(C(=O)N=C1N)C2C(C(C(O2)CO)O)O    Cytarabine\n",
       "4    CC1=C2C(C(=O)C3(C(CC4C(C3C(C(C2(C)C)(CC1OC(=O)...     Docetaxel\n",
       "..                                                 ...           ...\n",
       "139  CS(=O)(=O)C1=CC=C(C=C1)C2=CN=C(C(=N2)C(=O)NC3=...         VE821\n",
       "140  CC1=CN2C(=O)C=C(N=C2C(=C1)C(C)NC3=CC=CC=C3C(=O...       AZD6482\n",
       "141      C1=CC(=CC=C1C2=CNN=C2)C(CN)(C3=CC=C(C=C3)Cl)O       AT13148\n",
       "142  CC1(CCCN1C2=NN3C=CC=C3C(=N2)NC4=NNC(=C4)C5CC5)...    BMS-754807\n",
       "143  CC1=C(SC2=C1C(=NC(C3=NN=C(N32)C)CC(=O)OC(C)(C)...           JQ1\n",
       "\n",
       "[144 rows x 2 columns]"
      ]
     },
     "execution_count": 5,
     "metadata": {},
     "output_type": "execute_result"
    }
   ],
   "source": [
    "data = {\"canonical_smiles\" : druginfos['smiles'], \"drug\": druginfos['drug_name']}\n",
    "df = pd.DataFrame(data)\n",
    "df"
   ]
  },
  {
   "cell_type": "code",
   "execution_count": 9,
   "id": "4018cdb5-44c3-4a9f-b0a1-012023d1dd89",
   "metadata": {},
   "outputs": [],
   "source": [
    "np.savetxt(r'gdsc_smile.txt', df, fmt='%s', delimiter='\\t')"
   ]
  },
  {
   "cell_type": "code",
   "execution_count": 7,
   "id": "197b3210-aff6-4b1a-8724-073170f1671d",
   "metadata": {},
   "outputs": [
    {
     "data": {
      "text/plain": [
       "0      Temozolomide\n",
       "1             VE821\n",
       "2       Talazoparib\n",
       "3            VX-11e\n",
       "4          PD173074\n",
       "           ...     \n",
       "139           AZ960\n",
       "140       Cisplatin\n",
       "141          LGK974\n",
       "142      Cytarabine\n",
       "143      Navitoclax\n",
       "Name: drug, Length: 144, dtype: object"
      ]
     },
     "execution_count": 7,
     "metadata": {},
     "output_type": "execute_result"
    }
   ],
   "source": [
    "drug_list = df['drug']\n",
    "random.seed(316)\n",
    "shuff_list = random.Random(316).shuffle(drug_list)\n",
    "shuff_list = drug_list\n",
    "shuff_list"
   ]
  },
  {
   "cell_type": "code",
   "execution_count": 8,
   "id": "37030908-e78d-41a0-a8d0-83ac038777b3",
   "metadata": {},
   "outputs": [],
   "source": [
    "shuf_smiles =  pd.DataFrame(data = { \"canonical_smiles\": df['canonical_smiles'],\"drug\": shuff_list})"
   ]
  },
  {
   "cell_type": "code",
   "execution_count": null,
   "id": "97413349-ff36-429c-b94f-fda612a5f844",
   "metadata": {},
   "outputs": [],
   "source": [
    "np.savetxt(r'gdsc_smile_random.txt', shuf_smiles, fmt='%s', delimiter='\\t') "
   ]
  },
  {
   "cell_type": "code",
   "execution_count": null,
   "id": "6e92c740-ef68-4106-ac3e-9b449a3f069a",
   "metadata": {},
   "outputs": [],
   "source": []
  }
 ],
 "metadata": {
  "kernelspec": {
   "display_name": "Python 3 (ipykernel)",
   "language": "python",
   "name": "python3"
  },
  "language_info": {
   "codemirror_mode": {
    "name": "ipython",
    "version": 3
   },
   "file_extension": ".py",
   "mimetype": "text/x-python",
   "name": "python",
   "nbconvert_exporter": "python",
   "pygments_lexer": "ipython3",
   "version": "3.10.9"
  }
 },
 "nbformat": 4,
 "nbformat_minor": 5
}
